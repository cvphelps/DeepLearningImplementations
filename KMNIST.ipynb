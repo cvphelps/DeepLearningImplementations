{
  "nbformat": 4,
  "nbformat_minor": 0,
  "metadata": {
    "colab": {
      "name": "KMNIST.ipynb",
      "version": "0.3.2",
      "provenance": [],
      "collapsed_sections": [
        "YmWGOk0_ptS5"
      ],
      "include_colab_link": true
    },
    "kernelspec": {
      "name": "python3",
      "display_name": "Python 3"
    },
    "accelerator": "GPU"
  },
  "cells": [
    {
      "cell_type": "markdown",
      "metadata": {
        "id": "view-in-github",
        "colab_type": "text"
      },
      "source": [
        "<a href=\"https://colab.research.google.com/github/cvphelps/DeepLearningImplementations/blob/master/KMNIST.ipynb\" target=\"_parent\"><img src=\"https://colab.research.google.com/assets/colab-badge.svg\" alt=\"Open In Colab\"/></a>"
      ]
    },
    {
      "cell_type": "code",
      "metadata": {
        "id": "butlaGWTVulE",
        "colab_type": "code",
        "colab": {}
      },
      "source": [
        "%matplotlib inline"
      ],
      "execution_count": 0,
      "outputs": []
    },
    {
      "cell_type": "markdown",
      "metadata": {
        "id": "kA2s9JQSVxzt",
        "colab_type": "text"
      },
      "source": [
        "#Setup"
      ]
    },
    {
      "cell_type": "markdown",
      "metadata": {
        "id": "kJpTDh8-WJ3Y",
        "colab_type": "text"
      },
      "source": [
        "Install wandb."
      ]
    },
    {
      "cell_type": "code",
      "metadata": {
        "id": "oICWxBO2PrkQ",
        "colab_type": "code",
        "colab": {}
      },
      "source": [
        "! pip install wandb\n",
        "! wandb login"
      ],
      "execution_count": 0,
      "outputs": []
    },
    {
      "cell_type": "code",
      "metadata": {
        "id": "jugRuzSTpEYm",
        "colab_type": "code",
        "colab": {}
      },
      "source": [
        "from fastai import *\n",
        "from fastai.vision import *\n",
        "\n",
        "#import wandb\n",
        "#from wandb.fastai import WandbCallback\n",
        "\n",
        "import torchvision\n",
        "from torchvision.datasets import KMNIST\n",
        "\n",
        "import numpy as np"
      ],
      "execution_count": 0,
      "outputs": []
    },
    {
      "cell_type": "markdown",
      "metadata": {
        "id": "HldZmhLZV4qg",
        "colab_type": "text"
      },
      "source": [
        "Initialize wandb (enter API key)."
      ]
    },
    {
      "cell_type": "code",
      "metadata": {
        "id": "WUrBsq2Bn2iw",
        "colab_type": "code",
        "colab": {}
      },
      "source": [
        "wandb.init()"
      ],
      "execution_count": 0,
      "outputs": []
    },
    {
      "cell_type": "code",
      "metadata": {
        "id": "nt0-r9KuV33N",
        "colab_type": "code",
        "outputId": "18a6d26f-d187-40af-8b94-87d5e2f196a5",
        "colab": {
          "base_uri": "https://localhost:8080/",
          "height": 131
        }
      },
      "source": [
        "! git clone https://github.com/rois-codh/kmnist.git\n",
        "import os\n",
        "os.chdir('kmnist')"
      ],
      "execution_count": 0,
      "outputs": [
        {
          "output_type": "stream",
          "text": [
            "Cloning into 'kmnist'...\n",
            "remote: Enumerating objects: 176, done.\u001b[K\n",
            "Receiving objects:   0% (1/176)   \rReceiving objects:   1% (2/176)   \rReceiving objects:   2% (4/176)   \rReceiving objects:   3% (6/176)   \rReceiving objects:   4% (8/176)   \rReceiving objects:   5% (9/176)   \rReceiving objects:   6% (11/176)   \rReceiving objects:   7% (13/176)   \rReceiving objects:   8% (15/176)   \rReceiving objects:   9% (16/176)   \rReceiving objects:  10% (18/176)   \rReceiving objects:  11% (20/176)   \rReceiving objects:  12% (22/176)   \rReceiving objects:  13% (23/176)   \rReceiving objects:  14% (25/176)   \rReceiving objects:  15% (27/176)   \rReceiving objects:  16% (29/176)   \rReceiving objects:  17% (30/176)   \rReceiving objects:  18% (32/176)   \rReceiving objects:  19% (34/176)   \rReceiving objects:  20% (36/176)   \rReceiving objects:  21% (37/176)   \rReceiving objects:  22% (39/176)   \rReceiving objects:  23% (41/176)   \rReceiving objects:  24% (43/176)   \rReceiving objects:  25% (44/176)   \rReceiving objects:  26% (46/176)   \rReceiving objects:  27% (48/176)   \rReceiving objects:  28% (50/176)   \rReceiving objects:  29% (52/176)   \rReceiving objects:  30% (53/176)   \rReceiving objects:  31% (55/176)   \rReceiving objects:  32% (57/176)   \rReceiving objects:  33% (59/176)   \rReceiving objects:  34% (60/176)   \rReceiving objects:  35% (62/176)   \rReceiving objects:  36% (64/176)   \rReceiving objects:  37% (66/176)   \rReceiving objects:  38% (67/176)   \rremote: Total 176 (delta 0), reused 0 (delta 0), pack-reused 176\n",
            "Receiving objects:  39% (69/176)   \rReceiving objects:  40% (71/176)   \rReceiving objects:  41% (73/176)   \rReceiving objects:  42% (74/176)   \rReceiving objects:  43% (76/176)   \rReceiving objects:  44% (78/176)   \rReceiving objects:  45% (80/176)   \rReceiving objects:  46% (81/176)   \rReceiving objects:  47% (83/176)   \rReceiving objects:  48% (85/176)   \rReceiving objects:  49% (87/176)   \rReceiving objects:  50% (88/176)   \rReceiving objects:  51% (90/176)   \rReceiving objects:  52% (92/176)   \rReceiving objects:  53% (94/176)   \rReceiving objects:  54% (96/176)   \rReceiving objects:  55% (97/176)   \rReceiving objects:  56% (99/176)   \rReceiving objects:  57% (101/176)   \rReceiving objects:  58% (103/176)   \rReceiving objects:  59% (104/176)   \rReceiving objects:  60% (106/176)   \rReceiving objects:  61% (108/176)   \rReceiving objects:  62% (110/176)   \rReceiving objects:  63% (111/176)   \rReceiving objects:  64% (113/176)   \rReceiving objects:  65% (115/176)   \rReceiving objects:  66% (117/176)   \rReceiving objects:  67% (118/176)   \rReceiving objects:  68% (120/176)   \rReceiving objects:  69% (122/176)   \rReceiving objects:  70% (124/176)   \rReceiving objects:  71% (125/176)   \rReceiving objects:  72% (127/176)   \rReceiving objects:  73% (129/176)   \rReceiving objects:  74% (131/176)   \rReceiving objects:  75% (132/176)   \rReceiving objects:  76% (134/176)   \rReceiving objects:  77% (136/176)   \rReceiving objects:  78% (138/176)   \rReceiving objects:  79% (140/176)   \rReceiving objects:  80% (141/176)   \rReceiving objects:  81% (143/176)   \rReceiving objects:  82% (145/176)   \rReceiving objects:  83% (147/176)   \rReceiving objects:  84% (148/176)   \rReceiving objects:  85% (150/176)   \rReceiving objects:  86% (152/176)   \rReceiving objects:  87% (154/176)   \rReceiving objects:  88% (155/176)   \rReceiving objects:  89% (157/176)   \rReceiving objects:  90% (159/176)   \rReceiving objects:  91% (161/176)   \rReceiving objects:  92% (162/176)   \rReceiving objects:  93% (164/176)   \rReceiving objects:  94% (166/176)   \rReceiving objects:  95% (168/176)   \rReceiving objects:  96% (169/176)   \rReceiving objects:  97% (171/176)   \rReceiving objects:  98% (173/176)   \rReceiving objects:  99% (175/176)   \rReceiving objects: 100% (176/176)   \rReceiving objects: 100% (176/176), 397.30 KiB | 4.01 MiB/s, done.\n",
            "Resolving deltas:   0% (0/96)   \rResolving deltas:   1% (1/96)   \rResolving deltas:   4% (4/96)   \rResolving deltas:   9% (9/96)   \rResolving deltas:  17% (17/96)   \rResolving deltas:  38% (37/96)   \rResolving deltas:  59% (57/96)   \rResolving deltas: 100% (96/96)   \rResolving deltas: 100% (96/96), done.\n"
          ],
          "name": "stdout"
        }
      ]
    },
    {
      "cell_type": "markdown",
      "metadata": {
        "id": "xcejFpI2OQlN",
        "colab_type": "text"
      },
      "source": [
        "#Kuzushiji-MNIST"
      ]
    },
    {
      "cell_type": "code",
      "metadata": {
        "id": "k_GTrEEaN-Up",
        "colab_type": "code",
        "outputId": "ee90154b-e2d9-41ac-acaa-a00029b04525",
        "colab": {
          "base_uri": "https://localhost:8080/",
          "height": 352
        }
      },
      "source": [
        "! python download_data.py"
      ],
      "execution_count": 0,
      "outputs": [
        {
          "output_type": "stream",
          "text": [
            "Please select a download option:\n",
            "1) Kuzushiji-MNIST (10 classes, 28x28, 70k examples)\n",
            "2) Kuzushiji-49 (49 classes, 28x28, 270k examples)\n",
            "3) Kuzushiji-Kanji (3832 classes, 64x64, 140k examples)\n",
            "> 1\n",
            "Please select a download option:\n",
            "1) MNIST data format (ubyte.gz)\n",
            "2) NumPy data format (.npz)\n",
            "> 2\n",
            "Downloading kmnist-train-imgs.npz - 18.0 MB\n",
            "100% 17954/17954 [00:02<00:00, 7469.22KB/s]\n",
            "Downloading kmnist-train-labels.npz - 0.0 MB\n",
            "100% 30/30 [00:00<00:00, 238.00KB/s]\n",
            "Downloading kmnist-test-imgs.npz - 3.0 MB\n",
            "100% 3008/3008 [00:01<00:00, 2403.97KB/s]\n",
            "Downloading kmnist-test-labels.npz - 0.0 MB\n",
            "100% 6/6 [00:00<00:00, 11549.25KB/s]\n",
            "All dataset files downloaded!\n"
          ],
          "name": "stdout"
        }
      ]
    },
    {
      "cell_type": "code",
      "metadata": {
        "id": "CtL4MoEAt-dd",
        "colab_type": "code",
        "colab": {}
      },
      "source": [
        "train_imgs = np.load('kmnist-train-imgs.npz')['arr_0']#.reshape((232365, 1, 28, 28))\n",
        "train_labels = np.int64(np.load('kmnist-train-labels.npz')['arr_0'])\n",
        "\n",
        "train_imgs = np.expand_dims(train_imgs,axis=1)\n",
        "train_imgs = np.float32(np.repeat(train_imgs, 3, axis=1))\n",
        "#train_imgs = (train_imgs-train_imgs.mean()) / train_imgs.std()\n",
        "\n",
        "test_imgs = np.load('kmnist-test-imgs.npz')['arr_0']#.reshape((38547, 1, 28, 28))\n",
        "test_labels = np.int64(np.load('kmnist-test-labels.npz')['arr_0'])\n",
        "\n",
        "test_imgs = np.expand_dims(test_imgs,axis=1)\n",
        "test_imgs = np.float32(np.repeat(test_imgs, 3, axis=1))\n",
        "#test_imgs = (test_imgs-test_imgs.mean()) / test_imgs.std()"
      ],
      "execution_count": 0,
      "outputs": []
    },
    {
      "cell_type": "code",
      "metadata": {
        "id": "rIx6BbJsJVQ8",
        "colab_type": "code",
        "colab": {}
      },
      "source": [
        "class NumpyArrayDataset(Dataset):\n",
        "  \n",
        "    def __init__(self, x, y):\n",
        "        self.x, self.y = x, y\n",
        "        self.c = np.unique(y).size # binary label\n",
        "        self.classes = [\"お\", \"き\", \"す\", \"つ\", \"な\", \"は\", \"ま\", \"や\", \"れ\", \"を\"] \n",
        "    \n",
        "    def __len__(self):\n",
        "        return len(self.x)\n",
        "    \n",
        "    def __getitem__(self, i):\n",
        "        return self.x[i], self.y[i]"
      ],
      "execution_count": 0,
      "outputs": []
    },
    {
      "cell_type": "code",
      "metadata": {
        "id": "DCsu8OAaLIX7",
        "colab_type": "code",
        "outputId": "e75981ef-a59e-40f9-e939-f4546a77a7a2",
        "colab": {
          "base_uri": "https://localhost:8080/",
          "height": 136
        }
      },
      "source": [
        "train_ds = NumpyArrayDataset(train_imgs, train_labels)\n",
        "valid_ds = NumpyArrayDataset(test_imgs, test_labels)\n",
        "\n",
        "data = ImageDataBunch.create(train_ds, valid_ds, bs=128)\n",
        "data.normalize(imagenet_stats)"
      ],
      "execution_count": 0,
      "outputs": [
        {
          "output_type": "execute_result",
          "data": {
            "text/plain": [
              "ImageDataBunch;\n",
              "\n",
              "Train: <__main__.NumpyArrayDataset object at 0x7f4617e744e0>;\n",
              "\n",
              "Valid: <__main__.NumpyArrayDataset object at 0x7f4617e6d6d8>;\n",
              "\n",
              "Test: None"
            ]
          },
          "metadata": {
            "tags": []
          },
          "execution_count": 7
        }
      ]
    },
    {
      "cell_type": "code",
      "metadata": {
        "id": "ZfweHIxkH3YT",
        "colab_type": "code",
        "outputId": "61b8483b-46a9-4187-f22e-3e8c9555424a",
        "colab": {
          "base_uri": "https://localhost:8080/",
          "height": 51
        }
      },
      "source": [
        "learn = cnn_learner(data, models.resnet34, metrics=accuracy, callback_fns=WandbCallback)\n",
        "learn.loss_func = torch.nn.functional.cross_entropy\n",
        "learn.unfreeze()"
      ],
      "execution_count": 0,
      "outputs": [
        {
          "output_type": "stream",
          "text": [
            "Downloading: \"https://download.pytorch.org/models/resnet34-333f7ec4.pth\" to /root/.cache/torch/checkpoints/resnet34-333f7ec4.pth\n",
            "100%|██████████| 87306240/87306240 [00:00<00:00, 128855910.54it/s]\n"
          ],
          "name": "stderr"
        }
      ]
    },
    {
      "cell_type": "code",
      "metadata": {
        "id": "_a7iheu_f5R-",
        "colab_type": "code",
        "outputId": "fe06daab-2ad2-4660-865b-3151afdf47eb",
        "colab": {
          "base_uri": "https://localhost:8080/",
          "height": 300
        }
      },
      "source": [
        "learn.lr_find()\n",
        "learn.recorder.plot()"
      ],
      "execution_count": 0,
      "outputs": [
        {
          "output_type": "display_data",
          "data": {
            "text/html": [
              ""
            ],
            "text/plain": [
              "<IPython.core.display.HTML object>"
            ]
          },
          "metadata": {
            "tags": []
          }
        },
        {
          "output_type": "stream",
          "text": [
            "LR Finder is complete, type {learner_name}.recorder.plot() to see the graph.\n"
          ],
          "name": "stdout"
        },
        {
          "output_type": "display_data",
          "data": {
            "image/png": "[encoded data removed]",
            "text/plain": [
              "<Figure size 432x288 with 1 Axes>"
            ]
          },
          "metadata": {
            "tags": []
          }
        }
      ]
    },
    {
      "cell_type": "code",
      "metadata": {
        "id": "Llmn_9wyrRPJ",
        "colab_type": "code",
        "outputId": "3dd1f735-7608-4a65-dcf1-207bce7e298f",
        "colab": {
          "base_uri": "https://localhost:8080/",
          "height": 374
        }
      },
      "source": [
        "%%wandb\n",
        "learn.fit_one_cycle(10, max_lr=1e-2)"
      ],
      "execution_count": 0,
      "outputs": [
        {
          "output_type": "display_data",
          "data": {
            "text/html": [
              "<table border=\"1\" class=\"dataframe\">\n",
              "  <thead>\n",
              "    <tr style=\"text-align: left;\">\n",
              "      <th>epoch</th>\n",
              "      <th>train_loss</th>\n",
              "      <th>valid_loss</th>\n",
              "      <th>accuracy</th>\n",
              "      <th>time</th>\n",
              "    </tr>\n",
              "  </thead>\n",
              "  <tbody>\n",
              "    <tr>\n",
              "      <td>0</td>\n",
              "      <td>0.172839</td>\n",
              "      <td>0.377255</td>\n",
              "      <td>0.888600</td>\n",
              "      <td>00:22</td>\n",
              "    </tr>\n",
              "    <tr>\n",
              "      <td>1</td>\n",
              "      <td>0.155247</td>\n",
              "      <td>0.453124</td>\n",
              "      <td>0.879900</td>\n",
              "      <td>00:22</td>\n",
              "    </tr>\n",
              "    <tr>\n",
              "      <td>2</td>\n",
              "      <td>0.174910</td>\n",
              "      <td>0.516880</td>\n",
              "      <td>0.883600</td>\n",
              "      <td>00:22</td>\n",
              "    </tr>\n",
              "    <tr>\n",
              "      <td>3</td>\n",
              "      <td>0.092420</td>\n",
              "      <td>0.678365</td>\n",
              "      <td>0.931300</td>\n",
              "      <td>00:22</td>\n",
              "    </tr>\n",
              "    <tr>\n",
              "      <td>4</td>\n",
              "      <td>0.068853</td>\n",
              "      <td>0.209451</td>\n",
              "      <td>0.944100</td>\n",
              "      <td>00:23</td>\n",
              "    </tr>\n",
              "    <tr>\n",
              "      <td>5</td>\n",
              "      <td>0.075481</td>\n",
              "      <td>0.789166</td>\n",
              "      <td>0.947800</td>\n",
              "      <td>00:23</td>\n",
              "    </tr>\n",
              "    <tr>\n",
              "      <td>6</td>\n",
              "      <td>0.022342</td>\n",
              "      <td>0.133770</td>\n",
              "      <td>0.967300</td>\n",
              "      <td>00:23</td>\n",
              "    </tr>\n",
              "    <tr>\n",
              "      <td>7</td>\n",
              "      <td>0.015760</td>\n",
              "      <td>0.147673</td>\n",
              "      <td>0.974100</td>\n",
              "      <td>00:23</td>\n",
              "    </tr>\n",
              "    <tr>\n",
              "      <td>8</td>\n",
              "      <td>0.003671</td>\n",
              "      <td>0.189156</td>\n",
              "      <td>0.967900</td>\n",
              "      <td>00:23</td>\n",
              "    </tr>\n",
              "    <tr>\n",
              "      <td>9</td>\n",
              "      <td>0.002244</td>\n",
              "      <td>0.158133</td>\n",
              "      <td>0.970900</td>\n",
              "      <td>00:23</td>\n",
              "    </tr>\n",
              "  </tbody>\n",
              "</table>"
            ],
            "text/plain": [
              "<IPython.core.display.HTML object>"
            ]
          },
          "metadata": {
            "tags": []
          }
        }
      ]
    },
    {
      "cell_type": "markdown",
      "metadata": {
        "id": "eXmh8JAYNLXj",
        "colab_type": "text"
      },
      "source": [
        "#Kuzushiji-49"
      ]
    },
    {
      "cell_type": "code",
      "metadata": {
        "id": "LojJyjuPNQi8",
        "colab_type": "code",
        "colab": {}
      },
      "source": [
        "! python download_data.py"
      ],
      "execution_count": 0,
      "outputs": []
    },
    {
      "cell_type": "code",
      "metadata": {
        "id": "9WTxOC4ENRXG",
        "colab_type": "code",
        "colab": {}
      },
      "source": [
        "train_imgs = np.load('k49-train-imgs.npz')['arr_0']#.reshape((232365, 1, 28, 28))\n",
        "train_labels = np.int64(np.load('k49-train-labels.npz')['arr_0'])\n",
        "\n",
        "train_imgs = np.expand_dims(train_imgs,axis=1)\n",
        "train_imgs = np.float32(np.repeat(train_imgs, 3, axis=1))\n",
        "#train_imgs = (train_imgs-train_imgs.mean()) / train_imgs.std()\n",
        "\n",
        "test_imgs = np.load('k49-test-imgs.npz')['arr_0']#.reshape((38547, 1, 28, 28))\n",
        "test_labels = np.int64(np.load('k49-test-labels.npz')['arr_0'])\n",
        "\n",
        "test_imgs = np.expand_dims(test_imgs,axis=1)\n",
        "test_imgs = np.float32(np.repeat(test_imgs, 3, axis=1))\n",
        "#test_imgs = (test_imgs-test_imgs.mean()) / test_imgs.std()"
      ],
      "execution_count": 0,
      "outputs": []
    },
    {
      "cell_type": "code",
      "metadata": {
        "id": "tKATgPLvNXyp",
        "colab_type": "code",
        "colab": {}
      },
      "source": [
        "class NumpyArrayDataset(Dataset):\n",
        "  \n",
        "    def __init__(self, x, y):\n",
        "        self.x, self.y = x, y\n",
        "        self.c = np.unique(y).size\n",
        "        self.classes = [\"お\", \"き\", \"す\", \"つ\", \"な\", \"は\", \"ま\", \"や\", \"れ\", \"を\"] \n",
        "    \n",
        "    def __len__(self):\n",
        "        return len(self.x)\n",
        "    \n",
        "    def __getitem__(self, i):\n",
        "        return self.x[i], self.y[i]"
      ],
      "execution_count": 0,
      "outputs": []
    },
    {
      "cell_type": "code",
      "metadata": {
        "id": "cXM-kD5kNb4m",
        "colab_type": "code",
        "outputId": "3a58452f-97be-467f-b225-4cf93e74ce8a",
        "colab": {
          "base_uri": "https://localhost:8080/",
          "height": 136
        }
      },
      "source": [
        "train_ds = NumpyArrayDataset(train_imgs, train_labels)\n",
        "valid_ds = NumpyArrayDataset(test_imgs, test_labels)\n",
        "\n",
        "data = ImageDataBunch.create(train_ds, valid_ds, bs=128)\n",
        "data.normalize(imagenet_stats)"
      ],
      "execution_count": 0,
      "outputs": [
        {
          "output_type": "execute_result",
          "data": {
            "text/plain": [
              "ImageDataBunch;\n",
              "\n",
              "Train: <__main__.NumpyArrayDataset object at 0x7f009e008fd0>;\n",
              "\n",
              "Valid: <__main__.NumpyArrayDataset object at 0x7f009e008f28>;\n",
              "\n",
              "Test: None"
            ]
          },
          "metadata": {
            "tags": []
          },
          "execution_count": 8
        }
      ]
    },
    {
      "cell_type": "code",
      "metadata": {
        "id": "ksGexlFMNd1h",
        "colab_type": "code",
        "outputId": "e0b3b144-610c-4dba-c748-af05e46967e5",
        "colab": {
          "base_uri": "https://localhost:8080/",
          "height": 51
        }
      },
      "source": [
        "learn = cnn_learner(data, models.resnet34, metrics=accuracy, callback_fns=WandbCallback)\n",
        "learn.loss_func = torch.nn.functional.cross_entropy\n",
        "learn.unfreeze()"
      ],
      "execution_count": 0,
      "outputs": [
        {
          "output_type": "stream",
          "text": [
            "Downloading: \"https://download.pytorch.org/models/resnet34-333f7ec4.pth\" to /root/.cache/torch/checkpoints/resnet34-333f7ec4.pth\n",
            "100%|██████████| 87306240/87306240 [00:00<00:00, 148496362.56it/s]\n"
          ],
          "name": "stderr"
        }
      ]
    },
    {
      "cell_type": "code",
      "metadata": {
        "id": "5oDPWzTpNgJh",
        "colab_type": "code",
        "outputId": "f7ffdf83-4769-4821-c8e0-877bbd9afe7c",
        "colab": {
          "base_uri": "https://localhost:8080/",
          "height": 300
        }
      },
      "source": [
        "learn.lr_find()\n",
        "learn.recorder.plot()"
      ],
      "execution_count": 0,
      "outputs": [
        {
          "output_type": "display_data",
          "data": {
            "text/html": [
              ""
            ],
            "text/plain": [
              "<IPython.core.display.HTML object>"
            ]
          },
          "metadata": {
            "tags": []
          }
        },
        {
          "output_type": "stream",
          "text": [
            "LR Finder is complete, type {learner_name}.recorder.plot() to see the graph.\n"
          ],
          "name": "stdout"
        },
        {
          "output_type": "display_data",
          "data": {
            "image/png": "[encoded data removed]",
            "text/plain": [
              "<Figure size 432x288 with 1 Axes>"
            ]
          },
          "metadata": {
            "tags": []
          }
        }
      ]
    },
    {
      "cell_type": "code",
      "metadata": {
        "id": "NpfaeYsPVz95",
        "colab_type": "code",
        "outputId": "a8084ff5-0565-4711-8440-67e736ca2219",
        "colab": {
          "base_uri": "https://localhost:8080/",
          "height": 374
        }
      },
      "source": [
        "learn.fit_one_cycle(10, max_lr=slice(1e-6,4e-6))"
      ],
      "execution_count": 0,
      "outputs": [
        {
          "output_type": "display_data",
          "data": {
            "text/html": [
              "<table border=\"1\" class=\"dataframe\">\n",
              "  <thead>\n",
              "    <tr style=\"text-align: left;\">\n",
              "      <th>epoch</th>\n",
              "      <th>train_loss</th>\n",
              "      <th>valid_loss</th>\n",
              "      <th>accuracy</th>\n",
              "      <th>time</th>\n",
              "    </tr>\n",
              "  </thead>\n",
              "  <tbody>\n",
              "    <tr>\n",
              "      <td>0</td>\n",
              "      <td>0.647469</td>\n",
              "      <td>3.644226</td>\n",
              "      <td>0.949983</td>\n",
              "      <td>01:29</td>\n",
              "    </tr>\n",
              "    <tr>\n",
              "      <td>1</td>\n",
              "      <td>0.476288</td>\n",
              "      <td>3.069037</td>\n",
              "      <td>0.951125</td>\n",
              "      <td>01:29</td>\n",
              "    </tr>\n",
              "    <tr>\n",
              "      <td>2</td>\n",
              "      <td>0.609047</td>\n",
              "      <td>3.452628</td>\n",
              "      <td>0.950943</td>\n",
              "      <td>01:29</td>\n",
              "    </tr>\n",
              "    <tr>\n",
              "      <td>3</td>\n",
              "      <td>0.539338</td>\n",
              "      <td>2.595806</td>\n",
              "      <td>0.951825</td>\n",
              "      <td>01:28</td>\n",
              "    </tr>\n",
              "    <tr>\n",
              "      <td>4</td>\n",
              "      <td>0.558477</td>\n",
              "      <td>3.319617</td>\n",
              "      <td>0.952162</td>\n",
              "      <td>01:28</td>\n",
              "    </tr>\n",
              "    <tr>\n",
              "      <td>5</td>\n",
              "      <td>0.601273</td>\n",
              "      <td>6.037288</td>\n",
              "      <td>0.952344</td>\n",
              "      <td>01:28</td>\n",
              "    </tr>\n",
              "    <tr>\n",
              "      <td>6</td>\n",
              "      <td>0.613559</td>\n",
              "      <td>3.024812</td>\n",
              "      <td>0.952759</td>\n",
              "      <td>01:28</td>\n",
              "    </tr>\n",
              "    <tr>\n",
              "      <td>7</td>\n",
              "      <td>0.555723</td>\n",
              "      <td>3.344125</td>\n",
              "      <td>0.952422</td>\n",
              "      <td>01:28</td>\n",
              "    </tr>\n",
              "    <tr>\n",
              "      <td>8</td>\n",
              "      <td>0.537967</td>\n",
              "      <td>2.825977</td>\n",
              "      <td>0.953226</td>\n",
              "      <td>01:28</td>\n",
              "    </tr>\n",
              "    <tr>\n",
              "      <td>9</td>\n",
              "      <td>0.496061</td>\n",
              "      <td>5.678771</td>\n",
              "      <td>0.952707</td>\n",
              "      <td>01:29</td>\n",
              "    </tr>\n",
              "  </tbody>\n",
              "</table>"
            ],
            "text/plain": [
              "<IPython.core.display.HTML object>"
            ]
          },
          "metadata": {
            "tags": []
          }
        }
      ]
    },
    {
      "cell_type": "code",
      "metadata": {
        "id": "mRTYGXmMNhyi",
        "colab_type": "code",
        "outputId": "79096c27-4a9e-4dfb-cb8d-3bd5eb133236",
        "colab": {
          "base_uri": "https://localhost:8080/",
          "height": 498
        }
      },
      "source": [
        "#%%wandb\n",
        "learn.fit(14, lr=slice(1e-3,1e-1))"
      ],
      "execution_count": 0,
      "outputs": [
        {
          "output_type": "display_data",
          "data": {
            "text/html": [
              "<table border=\"1\" class=\"dataframe\">\n",
              "  <thead>\n",
              "    <tr style=\"text-align: left;\">\n",
              "      <th>epoch</th>\n",
              "      <th>train_loss</th>\n",
              "      <th>valid_loss</th>\n",
              "      <th>accuracy</th>\n",
              "      <th>time</th>\n",
              "    </tr>\n",
              "  </thead>\n",
              "  <tbody>\n",
              "    <tr>\n",
              "      <td>0</td>\n",
              "      <td>1.669246</td>\n",
              "      <td>64.265335</td>\n",
              "      <td>0.720134</td>\n",
              "      <td>01:26</td>\n",
              "    </tr>\n",
              "    <tr>\n",
              "      <td>1</td>\n",
              "      <td>1.880050</td>\n",
              "      <td>4.767814</td>\n",
              "      <td>0.761330</td>\n",
              "      <td>01:27</td>\n",
              "    </tr>\n",
              "    <tr>\n",
              "      <td>2</td>\n",
              "      <td>1.838531</td>\n",
              "      <td>2.468570</td>\n",
              "      <td>0.843360</td>\n",
              "      <td>01:28</td>\n",
              "    </tr>\n",
              "    <tr>\n",
              "      <td>3</td>\n",
              "      <td>2.086646</td>\n",
              "      <td>5.525168</td>\n",
              "      <td>0.865956</td>\n",
              "      <td>01:28</td>\n",
              "    </tr>\n",
              "    <tr>\n",
              "      <td>4</td>\n",
              "      <td>1.606332</td>\n",
              "      <td>4.618641</td>\n",
              "      <td>0.862090</td>\n",
              "      <td>01:28</td>\n",
              "    </tr>\n",
              "    <tr>\n",
              "      <td>5</td>\n",
              "      <td>1.530820</td>\n",
              "      <td>7.780640</td>\n",
              "      <td>0.850520</td>\n",
              "      <td>01:28</td>\n",
              "    </tr>\n",
              "    <tr>\n",
              "      <td>6</td>\n",
              "      <td>1.257815</td>\n",
              "      <td>2.509780</td>\n",
              "      <td>0.915143</td>\n",
              "      <td>01:28</td>\n",
              "    </tr>\n",
              "    <tr>\n",
              "      <td>7</td>\n",
              "      <td>1.566467</td>\n",
              "      <td>25.449234</td>\n",
              "      <td>0.926713</td>\n",
              "      <td>01:28</td>\n",
              "    </tr>\n",
              "    <tr>\n",
              "      <td>8</td>\n",
              "      <td>1.374025</td>\n",
              "      <td>3.327868</td>\n",
              "      <td>0.919812</td>\n",
              "      <td>01:28</td>\n",
              "    </tr>\n",
              "    <tr>\n",
              "      <td>9</td>\n",
              "      <td>1.334889</td>\n",
              "      <td>4.652363</td>\n",
              "      <td>0.905622</td>\n",
              "      <td>01:28</td>\n",
              "    </tr>\n",
              "    <tr>\n",
              "      <td>10</td>\n",
              "      <td>1.517693</td>\n",
              "      <td>3.385849</td>\n",
              "      <td>0.912600</td>\n",
              "      <td>01:28</td>\n",
              "    </tr>\n",
              "    <tr>\n",
              "      <td>11</td>\n",
              "      <td>1.188483</td>\n",
              "      <td>4.832660</td>\n",
              "      <td>0.933847</td>\n",
              "      <td>01:28</td>\n",
              "    </tr>\n",
              "    <tr>\n",
              "      <td>12</td>\n",
              "      <td>1.320633</td>\n",
              "      <td>5.658587</td>\n",
              "      <td>0.929281</td>\n",
              "      <td>01:28</td>\n",
              "    </tr>\n",
              "    <tr>\n",
              "      <td>13</td>\n",
              "      <td>1.331023</td>\n",
              "      <td>4.844227</td>\n",
              "      <td>0.935014</td>\n",
              "      <td>01:28</td>\n",
              "    </tr>\n",
              "  </tbody>\n",
              "</table>"
            ],
            "text/plain": [
              "<IPython.core.display.HTML object>"
            ]
          },
          "metadata": {
            "tags": []
          }
        }
      ]
    },
    {
      "cell_type": "markdown",
      "metadata": {
        "id": "oIC9wMv0OIj6",
        "colab_type": "text"
      },
      "source": [
        "#Kuzushiji-Kanji"
      ]
    },
    {
      "cell_type": "code",
      "metadata": {
        "id": "FLND6qHROPYf",
        "colab_type": "code",
        "outputId": "fc0b48af-2492-447c-a0e2-30d9e9ce1084",
        "colab": {
          "base_uri": "https://localhost:8080/",
          "height": 233
        }
      },
      "source": [
        "! python download_data.py"
      ],
      "execution_count": 0,
      "outputs": [
        {
          "output_type": "stream",
          "text": [
            "Please select a download option:\n",
            "1) Kuzushiji-MNIST (10 classes, 28x28, 70k examples)\n",
            "2) Kuzushiji-49 (49 classes, 28x28, 270k examples)\n",
            "3) Kuzushiji-Kanji (3832 classes, 64x64, 140k examples)\n",
            "> 3\n",
            "Please select a download option:\n",
            "1) Folders of images (.tar)\n",
            "> 1\n",
            "Downloading kkanji.tar - 316.7 MB\n",
            "100% 316690/316691 [00:24<00:00, 12868.85KB/s]\n",
            "All dataset files downloaded!\n"
          ],
          "name": "stdout"
        }
      ]
    },
    {
      "cell_type": "code",
      "metadata": {
        "id": "M0KbNbaROp8h",
        "colab_type": "code",
        "colab": {}
      },
      "source": [
        "import tarfile\n",
        "tar = tarfile.open(\"kkanji.tar\")\n",
        "tar.extractall()\n",
        "tar.close()"
      ],
      "execution_count": 0,
      "outputs": []
    },
    {
      "cell_type": "code",
      "metadata": {
        "id": "FIsw6Na8VN6a",
        "colab_type": "code",
        "colab": {}
      },
      "source": [
        "data = ImageDataBunch.from_folder('kkanji2', valid_pct=0.2, bs = 1024)\n",
        "data.normalize(imagenet_stats)"
      ],
      "execution_count": 0,
      "outputs": []
    },
    {
      "cell_type": "code",
      "metadata": {
        "id": "JFpLHpCVS6PF",
        "colab_type": "code",
        "colab": {}
      },
      "source": [
        "learn = cnn_learner(data, models.resnet50, metrics=(accuracy,top_k_accuracy), callback_fns=WandbCallback)"
      ],
      "execution_count": 0,
      "outputs": []
    },
    {
      "cell_type": "code",
      "metadata": {
        "id": "wqEoSHpkWjE5",
        "colab_type": "code",
        "outputId": "c27999a6-4001-4e76-8967-2e7a28d18792",
        "colab": {
          "base_uri": "https://localhost:8080/",
          "height": 94
        }
      },
      "source": [
        "learn.lr_find()\n",
        "learn.recorder.plot()"
      ],
      "execution_count": 0,
      "outputs": [
        {
          "output_type": "display_data",
          "data": {
            "text/html": [
              ""
            ],
            "text/plain": [
              "<IPython.core.display.HTML object>"
            ]
          },
          "metadata": {
            "tags": []
          }
        },
        {
          "output_type": "stream",
          "text": [
            "LR Finder is complete, type {learner_name}.recorder.plot() to see the graph.\n"
          ],
          "name": "stdout"
        }
      ]
    },
    {
      "cell_type": "code",
      "metadata": {
        "id": "9-jPOxyL2lt-",
        "colab_type": "code",
        "outputId": "96eea614-7e58-4d19-8346-8d134f2acba4",
        "colab": {
          "base_uri": "https://localhost:8080/",
          "height": 283
        }
      },
      "source": [
        "learn.recorder.plot()"
      ],
      "execution_count": 0,
      "outputs": [
        {
          "output_type": "display_data",
          "data": {
            "image/png": "[encoded data removed]",
            "text/plain": [
              "<Figure size 432x288 with 1 Axes>"
            ]
          },
          "metadata": {
            "tags": []
          }
        }
      ]
    },
    {
      "cell_type": "code",
      "metadata": {
        "id": "f2jIFR8oXGJS",
        "colab_type": "code",
        "colab": {}
      },
      "source": [
        "#%%wandb\n",
        "learn.fit_one_cycle(10, max_lr=slice(3e-3,3e-1))"
      ],
      "execution_count": 0,
      "outputs": []
    },
    {
      "cell_type": "code",
      "metadata": {
        "id": "TsT3JJf_cdAn",
        "colab_type": "code",
        "colab": {}
      },
      "source": [
        "learn.validate(metrics=(accuracy,top_k_accuracy))"
      ],
      "execution_count": 0,
      "outputs": []
    },
    {
      "cell_type": "markdown",
      "metadata": {
        "id": "YmWGOk0_ptS5",
        "colab_type": "text"
      },
      "source": [
        "#Useless Code"
      ]
    },
    {
      "cell_type": "code",
      "metadata": {
        "id": "Cj5nknqKfi-U",
        "colab_type": "code",
        "colab": {}
      },
      "source": [
        "# array to image\n",
        "arr = (arr-arr.mean()) / arr.std() #normalizes between -1 and +1\n",
        "arr = (arr + 1) / 2 * 255 # moves it between 0 and 255\n",
        "arr = np.clip(arr, 0, 255).astype(np.uint8) # clips it between 0 and 255 and converts to 8 bit int.\n",
        "imageio.imwrite(output_filename, arr)"
      ],
      "execution_count": 0,
      "outputs": []
    },
    {
      "cell_type": "code",
      "metadata": {
        "id": "D8Y8ys4gp01C",
        "colab_type": "code",
        "colab": {}
      },
      "source": [
        "# Normalization\n",
        "mean = train_imgs.mean()\n",
        "std = train_imgs.std()\n",
        "train_imgs = (train_imgs-mean)/std\n",
        "test_imgs = (test_imgs-mean)/std\n",
        "\n",
        "# Numpy to Torch Tensor\n",
        "train_imgs = torch.from_numpy(np.float32(train_imgs))\n",
        "train_labels = torch.from_numpy(train_labels.astype(np.long))\n",
        "test_imgs = torch.from_numpy(np.float32(test_imgs))\n",
        "test_labels = torch.from_numpy(test_labels.astype(np.long))\n",
        "\n",
        "train = torch.utils.data.TensorDataset(train_imgs, train_labels)\n",
        "valid = torch.utils.data.TensorDataset(test_imgs, test_labels)\n",
        "\n",
        "data = ImageDataBunch.create(train_ds = train, valid_ds=valid)"
      ],
      "execution_count": 0,
      "outputs": []
    },
    {
      "cell_type": "code",
      "metadata": {
        "id": "d8pZ8tj3p5eh",
        "colab_type": "code",
        "colab": {}
      },
      "source": [
        "data = (ItemList.from_array(train_ds = train_array, valid_ds=valid_array, test_ds=test_array), ...)"
      ],
      "execution_count": 0,
      "outputs": []
    }
  ]
}