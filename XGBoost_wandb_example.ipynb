{
  "nbformat": 4,
  "nbformat_minor": 0,
  "metadata": {
    "colab": {
      "name": "XGBoost wandb example",
      "version": "0.3.2",
      "provenance": [],
      "collapsed_sections": [],
      "include_colab_link": true
    },
    "kernelspec": {
      "name": "python3",
      "display_name": "Python 3"
    }
  },
  "cells": [
    {
      "cell_type": "markdown",
      "metadata": {
        "id": "view-in-github",
        "colab_type": "text"
      },
      "source": [
        "<a href=\"https://colab.research.google.com/github/cvphelps/DeepLearningImplementations/blob/master/XGBoost_wandb_example.ipynb\" target=\"_parent\"><img src=\"https://colab.research.google.com/assets/colab-badge.svg\" alt=\"Open In Colab\"/></a>"
      ]
    },
    {
      "cell_type": "markdown",
      "metadata": {
        "id": "hYn5jHJ4BPFj",
        "colab_type": "text"
      },
      "source": [
        "Here's an example XGBoost project that classifies images of skin cancer.\n",
        "\n",
        "Start by creating a free W&B account to track your training:\n",
        "\n",
        "https://www.wandb.com/"
      ]
    },
    {
      "cell_type": "code",
      "metadata": {
        "id": "r2ootNWhA9dN",
        "colab_type": "code",
        "colab": {
          "base_uri": "https://localhost:8080/",
          "height": 287
        },
        "outputId": "825bbeb0-5d06-47f5-8fb5-acfa22d4ba2b"
      },
      "source": [
        "# Install Weights & Biases to track training. First create an account at wandb.com\n",
        "!pip install wandb -q\n",
        "!wandb login\n",
        "# Download the dermatology dataset\n",
        "!wget https://archive.ics.uci.edu/ml/machine-learning-databases/dermatology/dermatology.data"
      ],
      "execution_count": 7,
      "outputs": [
        {
          "output_type": "stream",
          "text": [
            "You can find your API keys in your browser here: https://app.wandb.ai/authorize\n",
            "Paste an API key from your profile: 23b4991182751590ec0e6cc80e92144f080f3a2d\n",
            "Appending key for api.wandb.ai to your netrc file: /root/.netrc\n",
            "\u001b[32mSuccessfully logged in to Weights & Biases!\u001b[0m\n",
            "--2019-08-03 01:20:27--  https://archive.ics.uci.edu/ml/machine-learning-databases/dermatology/dermatology.data\n",
            "Resolving archive.ics.uci.edu (archive.ics.uci.edu)... 128.195.10.252\n",
            "Connecting to archive.ics.uci.edu (archive.ics.uci.edu)|128.195.10.252|:443... connected.\n",
            "HTTP request sent, awaiting response... 200 OK\n",
            "Length: 25964 (25K) [application/x-httpd-php]\n",
            "Saving to: ‘dermatology.data.4’\n",
            "\n",
            "dermatology.data.4  100%[===================>]  25.36K  --.-KB/s    in 0.03s   \n",
            "\n",
            "2019-08-03 01:20:27 (830 KB/s) - ‘dermatology.data.4’ saved [25964/25964]\n",
            "\n"
          ],
          "name": "stdout"
        }
      ]
    },
    {
      "cell_type": "code",
      "metadata": {
        "id": "kszahG2PBN5R",
        "colab_type": "code",
        "colab": {
          "base_uri": "https://localhost:8080/",
          "height": 622
        },
        "outputId": "904fc5b0-7ebd-41e4-db48-2222e496a0f0"
      },
      "source": [
        "# modified from https://github.com/dmlc/xgboost/blob/master/demo/multiclass_classification/train.py\n",
        "\n",
        "%%wandb\n",
        "\n",
        "import wandb\n",
        "import numpy as np\n",
        "import xgboost as xgb\n",
        "\n",
        "wandb.init(project=\"xgboost-dermatology\")\n",
        "\n",
        "# label need to be 0 to num_class -1\n",
        "data = np.loadtxt('./dermatology.data', delimiter=',',\n",
        "        converters={33: lambda x:int(x == '?'), 34: lambda x:int(x) - 1})\n",
        "sz = data.shape\n",
        "\n",
        "train = data[:int(sz[0] * 0.7), :]\n",
        "test = data[int(sz[0] * 0.7):, :]\n",
        "\n",
        "train_X = train[:, :33]\n",
        "train_Y = train[:, 34]\n",
        "\n",
        "test_X = test[:, :33]\n",
        "test_Y = test[:, 34]\n",
        "\n",
        "xg_train = xgb.DMatrix(train_X, label=train_Y)\n",
        "xg_test = xgb.DMatrix(test_X, label=test_Y)\n",
        "# setup parameters for xgboost\n",
        "param = {}\n",
        "# use softmax multi-class classification\n",
        "param['objective'] = 'multi:softmax'\n",
        "# scale weight of positive examples\n",
        "param['eta'] = 0.1\n",
        "param['max_depth'] = 6\n",
        "param['silent'] = 1\n",
        "param['nthread'] = 4\n",
        "param['num_class'] = 6\n",
        "wandb.config.update(param)\n",
        "\n",
        "watchlist = [(xg_train, 'train'), (xg_test, 'test')]\n",
        "num_round = 5\n",
        "bst = xgb.train(param, xg_train, num_round, watchlist, callbacks=[wandb.xgboost.wandb_callback()])\n",
        "# get prediction\n",
        "pred = bst.predict(xg_test)\n",
        "error_rate = np.sum(pred != test_Y) / test_Y.shape[0]\n",
        "print('Test error using softmax = {}'.format(error_rate))\n",
        "wandb.summary['Error Rate'] = error_rate"
      ],
      "execution_count": 9,
      "outputs": [
        {
          "output_type": "display_data",
          "data": {
            "text/html": [
              "<iframe src=\"https://app.wandb.ai/carey/xgboost-dermatology/runs/fbtd3o8z?jupyter=true&state=paused\" style=\"border:none;width:100%;height:420px\">\n",
              "        </iframe>"
            ],
            "text/plain": [
              "<wandb.jupyter.Run at 0x7f64f27aeac8>"
            ]
          },
          "metadata": {
            "tags": []
          }
        },
        {
          "output_type": "display_data",
          "data": {
            "text/html": [
              "\n",
              "        Notebook configured with <a href=\"https://wandb.com\" target=\"_blank\">W&B</a>. You can <a href=\"https://app.wandb.ai/carey/xgboost-dermatology/runs/dva48dj8\" target=\"_blank\">open</a> the run page, or call <code>%%wandb</code>\n",
              "        in a cell containing your training loop to display live results.  Learn more in our <a href=\"https://docs.wandb.com/docs/integrations/jupyter.html\" target=\"_blank\">docs</a>.\n",
              "    "
            ],
            "text/plain": [
              "<IPython.core.display.HTML object>"
            ]
          },
          "metadata": {
            "tags": []
          }
        },
        {
          "output_type": "stream",
          "text": [
            "/usr/local/lib/python3.6/dist-packages/xgboost/core.py:614: UserWarning: Use subset (sliced data) of np.ndarray is not recommended because it will generate extra copies and increase memory consumption\n",
            "  \"because it will generate extra copies and increase memory consumption\")\n"
          ],
          "name": "stderr"
        },
        {
          "output_type": "stream",
          "text": [
            "[0]\ttrain-merror:0.011719\ttest-merror:0.127273\n",
            "[1]\ttrain-merror:0.015625\ttest-merror:0.127273\n",
            "[2]\ttrain-merror:0.011719\ttest-merror:0.109091\n",
            "[3]\ttrain-merror:0.007812\ttest-merror:0.081818\n",
            "[4]\ttrain-merror:0.007812\ttest-merror:0.090909\n",
            "Test error using softmax = 0.09090909090909091\n"
          ],
          "name": "stdout"
        }
      ]
    }
  ]
}